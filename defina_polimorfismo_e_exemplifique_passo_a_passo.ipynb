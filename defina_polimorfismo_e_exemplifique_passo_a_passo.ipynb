{
  "cells": [
    {
      "cell_type": "markdown",
      "metadata": {
        "id": "view-in-github",
        "colab_type": "text"
      },
      "source": [
        "<a href=\"https://colab.research.google.com/github/Leotech47/Compliadores/blob/main/defina_polimorfismo_e_exemplifique_passo_a_passo.ipynb\" target=\"_parent\"><img src=\"https://colab.research.google.com/assets/colab-badge.svg\" alt=\"Open In Colab\"/></a>"
      ]
    },
    {
      "cell_type": "markdown",
      "source": [
        "## Polimorfismo em Python: Uma Explicação Detalhada\n",
        "\n",
        "**O que é Polimorfismo?**\n",
        "\n",
        "Em programação orientada a objetos, polimorfismo significa a capacidade de um objeto assumir muitas formas. Em outras palavras, um mesmo método pode se comportar de maneira diferente dependendo do contexto em que é chamado. Isso torna o código mais flexível e reutilizável.\n",
        "\n",
        "**Tipos de Polimorfismo:**\n",
        "\n",
        "* **Polimorfismo de Sobrecarga:** Ocorre quando um método tem o mesmo nome, mas diferentes parâmetros.\n",
        "* **Polimorfismo de Sobreescrita:** Ocorre quando uma subclasse reimplementa um método herdado da superclasse.\n",
        "\n",
        "**Exemplo Prático: Polimorfismo de Sobreescrita**\n",
        "\n",
        "Imagine que temos uma classe base chamada `Animal` e duas subclasses, `Cachorro` e `Gato`. Ambas as subclasses herdam o método `fazer_som()`, mas cada uma o implementa de forma diferente."
      ],
      "metadata": {
        "id": "z9E-ON_HcGAZ"
      }
    },
    {
      "cell_type": "code",
      "source": [
        "class Animal:\n",
        "    def fazer_som(self):\n",
        "        print(\"O animal faz um som.\")\n",
        "\n",
        "class Cachorro(Animal):\n",
        "    def fazer_som(self):\n",
        "        print(\"Au au!\")\n",
        "\n",
        "class Gato(Animal):\n",
        "    def fazer_som(self):\n",
        "        print(\"Miau!\")"
      ],
      "outputs": [],
      "execution_count": null,
      "metadata": {
        "id": "85aKnLCCcGAf"
      }
    },
    {
      "cell_type": "markdown",
      "source": [
        "**Como funciona:**\n",
        "\n",
        "1. **Criação das classes:**\n",
        "   * A classe `Animal` define o método `fazer_som()` de forma genérica.\n",
        "   * As classes `Cachorro` e `Gato` herdam da classe `Animal` e sobrescrevem o método `fazer_som()`.\n",
        "\n",
        "2. **Criação de objetos:**\n",
        "   * Criamos objetos das classes `Cachorro` e `Gato`.\n",
        "\n",
        "3. **Chamada do método:**\n",
        "   * Ao chamar o método `fazer_som()` em cada objeto, o método específico daquela classe será executado.\n",
        "\n",
        "**Exemplo de uso:**"
      ],
      "metadata": {
        "id": "h0Gy-k98cGAh"
      }
    },
    {
      "cell_type": "code",
      "source": [
        "meu_cachorro = Cachorro()\n",
        "meu_gato = Gato()\n",
        "\n",
        "animais = [meu_cachorro, meu_gato]\n",
        "\n",
        "for animal in animais:\n",
        "    animal.fazer_som()"
      ],
      "outputs": [
        {
          "output_type": "error",
          "ename": "NameError",
          "evalue": "name 'Cachorro' is not defined",
          "traceback": [
            "\u001b[0;31m---------------------------------------------------------------------------\u001b[0m",
            "\u001b[0;31mNameError\u001b[0m                                 Traceback (most recent call last)",
            "\u001b[0;32m<ipython-input-1-1b5bd84d9f0f>\u001b[0m in \u001b[0;36m<cell line: 1>\u001b[0;34m()\u001b[0m\n\u001b[0;32m----> 1\u001b[0;31m \u001b[0mmeu_cachorro\u001b[0m \u001b[0;34m=\u001b[0m \u001b[0mCachorro\u001b[0m\u001b[0;34m(\u001b[0m\u001b[0;34m)\u001b[0m\u001b[0;34m\u001b[0m\u001b[0;34m\u001b[0m\u001b[0m\n\u001b[0m\u001b[1;32m      2\u001b[0m \u001b[0mmeu_gato\u001b[0m \u001b[0;34m=\u001b[0m \u001b[0mGato\u001b[0m\u001b[0;34m(\u001b[0m\u001b[0;34m)\u001b[0m\u001b[0;34m\u001b[0m\u001b[0;34m\u001b[0m\u001b[0m\n\u001b[1;32m      3\u001b[0m \u001b[0;34m\u001b[0m\u001b[0m\n\u001b[1;32m      4\u001b[0m \u001b[0manimais\u001b[0m \u001b[0;34m=\u001b[0m \u001b[0;34m[\u001b[0m\u001b[0mmeu_cachorro\u001b[0m\u001b[0;34m,\u001b[0m \u001b[0mmeu_gato\u001b[0m\u001b[0;34m]\u001b[0m\u001b[0;34m\u001b[0m\u001b[0;34m\u001b[0m\u001b[0m\n\u001b[1;32m      5\u001b[0m \u001b[0;34m\u001b[0m\u001b[0m\n",
            "\u001b[0;31mNameError\u001b[0m: name 'Cachorro' is not defined"
          ]
        }
      ],
      "execution_count": 1,
      "metadata": {
        "colab": {
          "base_uri": "https://localhost:8080/",
          "height": 211
        },
        "id": "-SsQ5R0tcGAi",
        "outputId": "f0343af5-4bc6-4df7-8f05-ca9b46fd685a"
      }
    },
    {
      "cell_type": "markdown",
      "source": [
        "**Saída:**\n",
        "\n",
        "```\n",
        "Au au!\n",
        "Miau!\n",
        "```\n",
        "\n",
        "**Explicação:**\n",
        "\n",
        "* A variável `animais` é uma lista que contém objetos de diferentes classes (Cachorro e Gato), mas que compartilham o método `fazer_som()`.\n",
        "* O loop `for` itera sobre a lista e chama o método `fazer_som()` para cada animal.\n",
        "* O Python determina qual versão do método `fazer_som()` executar com base no tipo do objeto (Cachorro ou Gato).\n",
        "\n",
        "**Por que usar Polimorfismo?**\n",
        "\n",
        "* **Flexibilidade:** Permite tratar objetos de diferentes classes de forma uniforme.\n",
        "* **Reutilização de código:** Evita a duplicação de código, pois as subclasses podem reusar os métodos da superclasse.\n",
        "* **Extensibilidade:** Facilita a adição de novas classes e métodos sem afetar o código existente.\n",
        "\n",
        "**Exemplo de Polimorfismo de Sobrecarga**"
      ],
      "metadata": {
        "id": "jeQujp9rcGAj"
      }
    },
    {
      "cell_type": "code",
      "source": [
        "class Calculadora:\n",
        "    def somar(self, a, b):\n",
        "        return a + b\n",
        "\n",
        "    def somar(self, a, b, c):\n",
        "        return a + b + c"
      ],
      "outputs": [],
      "execution_count": null,
      "metadata": {
        "id": "vdN3JZUOcGAj"
      }
    },
    {
      "cell_type": "markdown",
      "source": [
        "**Neste exemplo:**\n",
        "* A classe `Calculadora` possui dois métodos `somar` com diferentes números de argumentos.\n",
        "* Python escolhe o método correto com base no número de argumentos passados na chamada.\n",
        "\n",
        "**Em resumo:**\n",
        "\n",
        "O polimorfismo é um conceito fundamental da programação orientada a objetos que permite que um objeto se comporte de diferentes maneiras em diferentes contextos. Ele torna o código mais flexível, reutilizável e fácil de entender.\n",
        "\n",
        "**Gostaria de ver mais exemplos ou aprofundar algum conceito específico?**"
      ],
      "metadata": {
        "id": "3OizPOx6cGAk"
      }
    }
  ],
  "metadata": {
    "colab": {
      "provenance": [],
      "include_colab_link": true
    },
    "kernelspec": {
      "display_name": "Python 3",
      "name": "python3"
    }
  },
  "nbformat": 4,
  "nbformat_minor": 0
}